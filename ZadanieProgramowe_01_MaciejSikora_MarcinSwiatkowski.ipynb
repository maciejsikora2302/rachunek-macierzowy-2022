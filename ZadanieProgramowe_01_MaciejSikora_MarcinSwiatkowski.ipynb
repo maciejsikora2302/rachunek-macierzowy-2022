{
 "cells": [
  {
   "cell_type": "markdown",
   "metadata": {},
   "source": [
    "# Raport - Projekt 1 (Rachunek Macierzowy)\n",
    "## Maciej Sikora, Marcin Świątkowski"
   ]
  },
  {
   "cell_type": "markdown",
   "metadata": {},
   "source": [
    "### Etap 1\n",
    "Importujemy potrzebne biblioteki oraz dwa pliki: jeden zawierający funkcje operacji na macierzach (multiplication_functions), drugi zliczający operacje (common)."
   ]
  },
  {
   "cell_type": "code",
   "execution_count": 149,
   "metadata": {},
   "outputs": [],
   "source": [
    "import numpy as np\n",
    "from pprint import pprint as pp\n",
    "from multiplication_functions import *\n",
    "from time import time_ns\n",
    "from copy import copy as cp\n",
    "from common import *\n",
    "from matplotlib import pyplot as plt\n",
    "import pandas as pd"
   ]
  },
  {
   "cell_type": "markdown",
   "metadata": {},
   "source": [
    "### Etap 2\n",
    "Ustalamy wykładnik potęgi oraz precyzję."
   ]
  },
  {
   "cell_type": "code",
   "execution_count": 150,
   "metadata": {},
   "outputs": [],
   "source": [
    "two_power = 3\n",
    "percision = 10**(-10)"
   ]
  },
  {
   "cell_type": "markdown",
   "metadata": {},
   "source": [
    "### Etap 3\n",
    "Przygotowujemy miejsce na statystyki macierzy"
   ]
  },
  {
   "cell_type": "code",
   "execution_count": 151,
   "metadata": {},
   "outputs": [],
   "source": [
    "SIZE_NORMAL = []\n",
    "SIZE_STRASSEN = []\n",
    "\n",
    "TIME_NORMAL = []\n",
    "TIME_STRASSEN = []\n",
    "\n",
    "OPCOUNT_NORMAL = []\n",
    "OPCOUNT_STRASSEN = []"
   ]
  },
  {
   "cell_type": "markdown",
   "metadata": {},
   "source": [
    "### Etap 4\n",
    "Wyznaczamy które funkcje mają zostać wykonane (jakimi sposobami macierze mają zostać policzone)"
   ]
  },
  {
   "cell_type": "code",
   "execution_count": 152,
   "metadata": {},
   "outputs": [],
   "source": [
    "functions = [mat_mul_normal, mat_mul_strassen]"
   ]
  },
  {
   "cell_type": "markdown",
   "metadata": {},
   "source": [
    "### Etap 5\n",
    "Wykonujemy mnożenie macierzy w oparciu o wskazane funkcje, a następnie je wyświetlamy w formie DataFrame'ów (z powodu problemów z czytelnością raportu, wyświetlone zostają tylko dwie pierwsze operacje).\n",
    "Dodatkowo sprawdzamy czy policzone wartości są równe z tymi policzonymi przez bibliotekę przystosowaną do mnożenia macierzy (linijka 9). Poziom dokładności jest ustalony wyżej."
   ]
  },
  {
   "cell_type": "code",
   "execution_count": 153,
   "metadata": {},
   "outputs": [
    {
     "name": "stdout",
     "output_type": "stream",
     "text": [
      "\n",
      "=============================================\n",
      "Matrix A\n",
      "           0         1         2         3\n",
      "0  0.055717  0.437671  0.167099  0.874466\n",
      "1  0.249142  0.124101  0.129796  0.762199\n",
      "2  0.898791  0.364159  0.715194  0.136720\n",
      "3  0.705463  0.177788  0.653457  0.614085\n",
      "\n",
      "Matrix B\n",
      "           0         1         2         3\n",
      "0  0.129052  0.784571  0.715247  0.900146\n",
      "1  0.423760  0.979173  0.945769  0.002619\n",
      "2  0.785795  0.946739  0.979978  0.810167\n",
      "3  0.744807  0.215828  0.427715  0.095855\n",
      "\n",
      "Matrix C\n",
      "           0         1         2         3\n",
      "0  0.975271  0.819203  0.991562  0.270499\n",
      "1  0.754425  0.604373  0.748770  0.402807\n",
      "2  0.934132  1.768350  1.746620  1.402529\n",
      "3  1.137239  1.478761  1.575754  1.223758\n",
      "\n",
      "Size: 4, name: mat_mul_normal, correct: True, time: 1000200, op_count: 372581344\n",
      "\n",
      "=============================================\n",
      "Matrix A\n",
      "           0         1         2         3\n",
      "0  0.840638  0.449749  0.550408  0.394878\n",
      "1  0.344745  0.052049  0.404606  0.348802\n",
      "2  0.720054  0.619880  0.576095  0.495822\n",
      "3  0.165652  0.742584  0.416244  0.930646\n",
      "\n",
      "Matrix B\n",
      "           0         1         2         3\n",
      "0  0.742420  0.467873  0.696082  0.316000\n",
      "1  0.775284  0.562872  0.560848  0.155757\n",
      "2  0.445486  0.867359  0.012933  0.139072\n",
      "3  0.156083  0.531506  0.503321  0.007891\n",
      "\n",
      "Matrix C\n",
      "           0         1         2         3\n",
      "0  1.279622  1.333744  1.043263  0.415355\n",
      "1  0.530987  0.726923  0.449954  0.176068\n",
      "2  1.349198  1.449021  1.105884  0.408119\n",
      "3  1.029386  1.351161  1.005581  0.233240\n",
      "\n",
      "Size: 4, name: mat_mul_strassen, correct: True, time: 0, op_count: 372581472\n"
     ]
    }
   ],
   "source": [
    "for two_power in range(2,10):\n",
    "    for f in functions:\n",
    "        A = np.random.rand(2**two_power,2**two_power)\n",
    "        B = np.random.rand(2**two_power,2**two_power)\n",
    "\n",
    "        start = time_ns()\n",
    "        C, operation_count = f(A,B)\n",
    "        mesured_time = time_ns() - start\n",
    "        correct = np.allclose(A@B, np.array(C), atol = percision, rtol = 0)\n",
    "        \n",
    "        if two_power < 3:\n",
    "            print('\\n' + (45*'=') + '\\nMatrix A\\n', pd.DataFrame(A))\n",
    "            print('\\nMatrix B\\n', pd.DataFrame(B))\n",
    "            print('\\nMatrix C\\n', pd.DataFrame(C))\n",
    "            print(f\"\\nSize: {2**two_power}, name: {f.__name__}, correct: {correct}, time: {mesured_time}, op_count: {operation_count}\")\n",
    "\n",
    "        \n",
    "        if f.__name__=='mat_mul_normal':\n",
    "            SIZE_NORMAL.append(2**two_power)\n",
    "            TIME_NORMAL.append(mesured_time)\n",
    "            OPCOUNT_NORMAL.append(operation_count)\n",
    "        else:\n",
    "            SIZE_STRASSEN.append(2**two_power)\n",
    "            TIME_STRASSEN.append(mesured_time)\n",
    "            OPCOUNT_STRASSEN.append(operation_count)"
   ]
  },
  {
   "cell_type": "markdown",
   "metadata": {},
   "source": [
    "### Etap 6\n",
    "Zapisujemy statystyki macierzy w pliku saved_results.txt."
   ]
  },
  {
   "cell_type": "code",
   "execution_count": 154,
   "metadata": {},
   "outputs": [],
   "source": [
    "with open('./saved_results.txt', 'w') as f:\n",
    "    f.write(\"NORMAL\\n\")\n",
    "    f.write(f\"{','.join(list(map(str, SIZE_NORMAL)))}\\n\")\n",
    "    f.write(f\"{','.join(list(map(str, TIME_NORMAL)))}\\n\")\n",
    "    f.write(f\"{','.join(list(map(str, OPCOUNT_NORMAL)))}\\n\")\n",
    "    f.write(\"\\nSTRASSEM\\n\")\n",
    "    f.write(f\"{','.join(list(map(str, SIZE_STRASSEN)))}\\n\")\n",
    "    f.write(f\"{','.join(list(map(str, TIME_STRASSEN)))}\\n\")\n",
    "    f.write(f\"{','.join(list(map(str, OPCOUNT_STRASSEN)))}\\n\")"
   ]
  },
  {
   "cell_type": "markdown",
   "metadata": {},
   "source": [
    "### Etap 7\n",
    "Rysujemy wykresy liniowe dla obu sposobów liczenia macierzy z podziałem na wykresy czasy obliczania i liczby operacji."
   ]
  },
  {
   "cell_type": "code",
   "execution_count": 155,
   "metadata": {},
   "outputs": [
    {
     "data": {
      "image/png": "[encoded data removed]",
      "text/plain": [
       "<Figure size 1332x756 with 4 Axes>"
      ]
     },
     "metadata": {
      "needs_background": "light"
     },
     "output_type": "display_data"
    }
   ],
   "source": [
    "fig, axs = plt.subplots(2, 2)\n",
    "fig.set_size_inches(18.5, 10.5)\n",
    "fig.suptitle('First row normal, second row strassen')\n",
    "axs[0, 0].plot(SIZE_NORMAL, TIME_NORMAL)\n",
    "axs[0, 0].set_title('Normal - time count')\n",
    "axs[0, 0].set_xlabel(\"Size\")\n",
    "axs[0, 0].set_ylabel(\"Time\")\n",
    "axs[0, 0].grid(axis='y')\n",
    "\n",
    "axs[0, 1].plot(SIZE_NORMAL, OPCOUNT_NORMAL)\n",
    "axs[0, 1].set_title('Normal - operation count')\n",
    "axs[0, 1].set_xlabel(\"Size\")\n",
    "axs[0, 1].set_ylabel(\"Operations\")\n",
    "axs[0, 1].grid(axis='y')\n",
    "\n",
    "axs[1, 0].plot(SIZE_STRASSEN, TIME_STRASSEN, \"r-\")\n",
    "axs[1, 0].set_title('Strassen - time count')\n",
    "axs[1, 0].set_xlabel(\"Size\")\n",
    "axs[1, 0].set_ylabel(\"Time\")\n",
    "axs[1, 0].grid(axis='y')\n",
    "\n",
    "axs[1, 1].plot(SIZE_STRASSEN, OPCOUNT_STRASSEN, \"r-\")\n",
    "axs[1, 1].set_title('Strassen - operation count')\n",
    "axs[1, 1].set_xlabel(\"Size\")\n",
    "axs[1, 1].set_ylabel(\"Operations\")\n",
    "axs[1, 1].grid(axis='y')\n",
    "\n",
    "plt.show()"
   ]
  },
  {
   "cell_type": "markdown",
   "metadata": {},
   "source": [
    "## Podsumowanie\n",
    "Patrząc na rzędy wielkości możemy dostrzec, że algorytm Strassena wykonuje się szybciej, choć dokonuje nawet nieco większej liczby operacji. Użyteczność algorytmu Strassena rzeczywiście jednak okazuje się dopiero przy większych macierzach."
   ]
  },
  {
   "cell_type": "code",
   "execution_count": 156,
   "metadata": {},
   "outputs": [
    {
     "data": {
      "text/plain": [
       "[372581472,\n",
       " 372583680,\n",
       " 372601312,\n",
       " 372737536,\n",
       " 373775072,\n",
       " 381635840,\n",
       " 441150432,\n",
       " 892486656]"
      ]
     },
     "execution_count": 156,
     "metadata": {},
     "output_type": "execute_result"
    }
   ],
   "source": [
    "OPCOUNT_STRASSEN"
   ]
  },
  {
   "cell_type": "code",
   "execution_count": 157,
   "metadata": {},
   "outputs": [
    {
     "data": {
      "text/plain": [
       "[372581344,\n",
       " 372582496,\n",
       " 372591872,\n",
       " 372666848,\n",
       " 373261824,\n",
       " 377969376,\n",
       " 415190272,\n",
       " 709585888]"
      ]
     },
     "execution_count": 157,
     "metadata": {},
     "output_type": "execute_result"
    }
   ],
   "source": [
    "OPCOUNT_NORMAL"
   ]
  },
  {
   "cell_type": "code",
   "execution_count": 158,
   "metadata": {},
   "outputs": [
    {
     "data": {
      "text/plain": [
       "[0,\n",
       " 1002000,\n",
       " 4995200,\n",
       " 32980500,\n",
       " 265851700,\n",
       " 1650041500,\n",
       " 12943606200,\n",
       " 89233018100]"
      ]
     },
     "execution_count": 158,
     "metadata": {},
     "output_type": "execute_result"
    }
   ],
   "source": [
    "TIME_STRASSEN"
   ]
  },
  {
   "cell_type": "code",
   "execution_count": 159,
   "metadata": {},
   "outputs": [
    {
     "data": {
      "text/plain": [
       "[1000200,\n",
       " 0,\n",
       " 3997300,\n",
       " 25983500,\n",
       " 183133200,\n",
       " 1574120200,\n",
       " 14226851900,\n",
       " 104505295700]"
      ]
     },
     "execution_count": 159,
     "metadata": {},
     "output_type": "execute_result"
    }
   ],
   "source": [
    "TIME_NORMAL"
   ]
  },
  {
   "cell_type": "markdown",
   "metadata": {},
   "source": [
    "Analizując czasy wykonań algorytmu dla poszczególnych przypadków, należy zwrócić uwagę na narzędzia wykorzystane do wykonania zadania. Operacje są zaimplementowane w czystym Pythonie, który jest notorycznie wskazywany jako jeden z gorszych języków do zadań \"ciężkich obliczeniowo\". Już rozmiary problemów 2^10 * 2^10 są liczone w długim czasie. \n",
    "\n",
    "Rozwiązaniem tego problemu, przy założeniu, że nadal korzystamy z jednego z najwygodniejszych języków, jest wykorzystanie bibliotek stworzonych do tego typu obliczeń. Zaimplementowanie tych operacji w popularnej bibliotece NumPy zdecydowanie przyspieszyłoby faktyczne obliczenia, lecz ona ma już zaimplementowane swoje własne efektywne mnożenie macierzy."
   ]
  }
 ],
 "metadata": {
  "kernelspec": {
   "display_name": "Python 3",
   "language": "python",
   "name": "python3"
  },
  "language_info": {
   "codemirror_mode": {
    "name": "ipython",
    "version": 3
   },
   "file_extension": ".py",
   "mimetype": "text/x-python",
   "name": "python",
   "nbconvert_exporter": "python",
   "pygments_lexer": "ipython3",
   "version": "3.9.5"
  }
 },
 "nbformat": 4,
 "nbformat_minor": 5
}
